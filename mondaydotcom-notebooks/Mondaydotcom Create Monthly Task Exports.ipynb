{
 "cells": [
  {
   "cell_type": "markdown",
   "id": "a7fe9993",
   "metadata": {},
   "source": [
    "# Create Monthly Task Exports in Smartsheet\n"
   ]
  },
  {
   "cell_type": "code",
   "execution_count": null,
   "id": "56966c55",
   "metadata": {},
   "outputs": [],
   "source": [
    "#%load_ext nb_black"
   ]
  },
  {
   "cell_type": "code",
   "execution_count": null,
   "id": "e2baec28",
   "metadata": {},
   "outputs": [],
   "source": [
    "import os\n",
    "import json\n",
    "import logging\n",
    "import copy\n",
    "from datetime import datetime, timedelta\n",
    "from dateutil import parser\n",
    "from typing import Dict, List\n",
    "from pprint import pprint\n",
    "from pathlib import Path\n",
    "\n",
    "import pandas as pd\n",
    "import numpy as np\n",
    "\n",
    "from box import Box\n",
    "\n",
    "import smartsheet\n",
    "\n",
    "# uses the pretty okay SDK here: https://github.com/ProdPerfect/monday\n",
    "from monday import MondayClient\n",
    "\n",
    "from mondaydotcom_utils.formatted_value import (\n",
    "    FormattedValue,\n",
    "    get_col_defs,\n",
    "    get_items_by_board,\n",
    ")\n",
    "\n",
    "import scrapbook as sb\n",
    "import dotenv\n",
    "\n",
    "from prefect import task, flow\n",
    "\n",
    "from jsonschema import validate, ValidationError, RefResolver\n",
    "from jsonschema.exceptions import RefResolutionError\n",
    "\n",
    "logger = logging.getLogger(__name__)\n",
    "logger.setLevel(logging.INFO)"
   ]
  },
  {
   "cell_type": "code",
   "execution_count": null,
   "id": "6b4bb728",
   "metadata": {},
   "outputs": [],
   "source": [
    "TASKS_BOARD_ID = \"1883170887\"\n",
    "AGREEMENTS_BOARD_ID = \"1882423671\"\n",
    "PROJECTS_BOARD_ID = \"1882404316\"\n",
    "ACCOUNTS_BOARD_ID = \"1882424009\"\n",
    "\n",
    "PROJECT_TASK_TIME_BOARD_ID = \"2398200403\"\n",
    "\n",
    "posted_tasks_id = 3567675495475076"
   ]
  },
  {
   "cell_type": "code",
   "execution_count": null,
   "id": "1a6bf933",
   "metadata": {},
   "outputs": [],
   "source": [
    "if not os.path.exists(\"_cache\"):\n",
    "    os.mkdir(\"_cache\")"
   ]
  },
  {
   "cell_type": "code",
   "execution_count": null,
   "id": "22761bef",
   "metadata": {
    "tags": [
     "parameters"
    ]
   },
   "outputs": [],
   "source": [
    "environment = \"dev\"\n",
    "\n",
    "# change these or set as papermill parameters to report on year and month\n",
    "year_for_report = 2022\n",
    "month_for_report = 7\n",
    "\n",
    "# it is possible to run this without posting to smartsheet... useful for testing\n",
    "post_records = True"
   ]
  },
  {
   "cell_type": "code",
   "execution_count": null,
   "id": "453afb8c",
   "metadata": {},
   "outputs": [],
   "source": [
    "# check the environment vars for secrets\n",
    "\n",
    "env_file = f\".env-{environment}\"\n",
    "logger.info(\"Loading the .env file from %s\", env_file)\n",
    "dotenv.load_dotenv(dotenv.find_dotenv(env_file))\n",
    "\n",
    "assert os.environ.get(\"MONDAY_KEY\"), f\"MONDAY_KEY not found in {env_file}\"\n",
    "assert os.environ.get(\"SMARTSHEET_KEY\"), f\"SMARTSHEET_KEY not found in {env_file}\""
   ]
  },
  {
   "cell_type": "code",
   "execution_count": null,
   "id": "7b0a0911",
   "metadata": {},
   "outputs": [],
   "source": [
    "def month_end_date(year, month):\n",
    "    \"\"\"Calculate the month end date given a year and month.\"\"\"\n",
    "    month += 1\n",
    "    if month == 13:\n",
    "        month = 1\n",
    "        year += 1\n",
    "\n",
    "    tempdate = datetime.strptime(f\"{year}-{month}-1\", \"%Y-%m-%d\")\n",
    "    return (tempdate - timedelta(days=1)).strftime(\"%Y-%m-%d\")"
   ]
  },
  {
   "cell_type": "code",
   "execution_count": null,
   "id": "11b01867",
   "metadata": {},
   "outputs": [],
   "source": [
    "month_ending_date = month_end_date(year_for_report, month_for_report)\n",
    "month_ending_date"
   ]
  },
  {
   "cell_type": "code",
   "execution_count": null,
   "id": "8a294203",
   "metadata": {},
   "outputs": [],
   "source": [
    "prepared_date = datetime.today().strftime(\"%Y-%m-%d\")\n",
    "prepared_date"
   ]
  },
  {
   "cell_type": "code",
   "execution_count": null,
   "id": "6273af4b",
   "metadata": {},
   "outputs": [],
   "source": [
    "# connect monday client\n",
    "conn = MondayClient(os.environ.get(\"MONDAY_KEY\"))"
   ]
  },
  {
   "cell_type": "code",
   "execution_count": null,
   "id": "8d173051",
   "metadata": {},
   "outputs": [],
   "source": [
    "# connect smartsheet client\n",
    "ss_client = smartsheet.Smartsheet(os.environ.get(\"SMARTSHEET_KEY\"))\n",
    "ss_client.errors_as_exceptions(True)"
   ]
  },
  {
   "cell_type": "code",
   "execution_count": null,
   "id": "7375ca99",
   "metadata": {},
   "outputs": [],
   "source": [
    "def validate_json(schema, json_data):\n",
    "\n",
    "    # mostly from https://stackoverflow.com/questions/25145160/json-schema-ref-does-not-work-for-relative-path\n",
    "    schemas = (json.load(open(source)) for source in Path(\"schema\").iterdir())\n",
    "    schema_store = {schema[\"$id\"]: schema for schema in schemas}\n",
    "\n",
    "    resolver = RefResolver.from_schema(schema, store=schema_store)\n",
    "\n",
    "    try:\n",
    "        result = validate(instance=json_data, schema=schema, resolver=resolver)\n",
    "        return True, None\n",
    "    except ValidationError as err:\n",
    "        return False, err.message"
   ]
  },
  {
   "cell_type": "markdown",
   "id": "a4105f8f",
   "metadata": {},
   "source": [
    "## Start fetching MDC data"
   ]
  },
  {
   "cell_type": "code",
   "execution_count": null,
   "id": "d2e80f2a",
   "metadata": {},
   "outputs": [],
   "source": [
    "# bug between ProdPerfect and MDC's API: https://github.com/ProdPerfect/monday/issues/57\n",
    "from monday.resources.base import BaseResource\n",
    "\n",
    "query = \"\"\"query\n",
    "    {\n",
    "        users () {\n",
    "            id\n",
    "            name\n",
    "            email\n",
    "            enabled\n",
    "        }\n",
    "    }\"\"\"\n",
    "query"
   ]
  },
  {
   "cell_type": "code",
   "execution_count": null,
   "id": "6d100987",
   "metadata": {},
   "outputs": [],
   "source": [
    "base_resource = BaseResource(os.environ.get(\"MONDAY_KEY\"))\n",
    "users = base_resource._query(query)[\"data\"][\"users\"]"
   ]
  },
  {
   "cell_type": "code",
   "execution_count": null,
   "id": "317dd1e2",
   "metadata": {},
   "outputs": [],
   "source": [
    "users_df = pd.DataFrame(users).set_index(\"id\")\n",
    "users_df"
   ]
  },
  {
   "cell_type": "code",
   "execution_count": null,
   "id": "c82c5dc3",
   "metadata": {},
   "outputs": [],
   "source": [
    "accounts_df = get_items_by_board(conn, ACCOUNTS_BOARD_ID).fillna(\"\")\n",
    "\n",
    "accounts_df.rename(\n",
    "    columns={\n",
    "        \"monday_id\": \"MDC Client ID\",\n",
    "        \"monday_name\": \"Client Name\",\n",
    "        \"No Bill__checked\": \"No Bill\",\n",
    "        \"Notes\": \"Client Notes\",\n",
    "    },\n",
    "    inplace=True,\n",
    ")\n",
    "\n",
    "accounts_df.drop(\n",
    "    columns=[\n",
    "        \"Contacts\",\n",
    "        \"Subitems\",\n",
    "        \"Customer Projects\",\n",
    "        \"Type__text\",\n",
    "        \"Type__changed_at\",\n",
    "        \"No Bill__changed_at\",\n",
    "    ],\n",
    "    inplace=True,\n",
    ")\n",
    "\n",
    "accounts_df"
   ]
  },
  {
   "cell_type": "code",
   "execution_count": null,
   "id": "5e1439e8",
   "metadata": {},
   "outputs": [],
   "source": [
    "projects_df = get_items_by_board(conn, PROJECTS_BOARD_ID).fillna(\"\")\n",
    "\n",
    "projects_df.rename(\n",
    "    columns={\n",
    "        \"monday_id\": \"MDC Project ID\",\n",
    "        \"monday_name\": \"Project Name\",\n",
    "        \"Project Lifecycle__text\": \"Project Lifecycle\",\n",
    "        \"Account\": \"MDC Client ID\",\n",
    "        \"Notes\": \"Project Notes\",\n",
    "    },\n",
    "    inplace=True,\n",
    ")\n",
    "\n",
    "projects_df.drop(\n",
    "    columns=[\n",
    "        \"Project Tasks\",\n",
    "        \"Subitems\",\n",
    "        \"Project Contacts\",\n",
    "        \"Timeline\",\n",
    "        \"Customer Source\",\n",
    "        \"Dependency\",\n",
    "        \"Date Added\",\n",
    "        \"Timeline Days\",\n",
    "        \"Date Added__default_formatter\",\n",
    "        \"Tasks Status__mirror\",\n",
    "        \"Project Lifecycle__changed_at\",\n",
    "        \"Repo Description__mirror\",\n",
    "        \"Timeline__to\",\n",
    "        \"Timeline__from\",\n",
    "        \"Timeline__changed_at\",\n",
    "    ],\n",
    "    inplace=True,\n",
    ")\n",
    "\n",
    "projects_df = projects_df.explode([\"MDC Client ID\"], ignore_index=True)\n",
    "projects_df"
   ]
  },
  {
   "cell_type": "code",
   "execution_count": null,
   "id": "b379876d",
   "metadata": {},
   "outputs": [],
   "source": [
    "# add the account to the projects\n",
    "projects_df = pd.merge(projects_df, accounts_df, how=\"left\", on=\"MDC Client ID\")\n",
    "projects_df"
   ]
  },
  {
   "cell_type": "code",
   "execution_count": null,
   "id": "4375fe85",
   "metadata": {
    "scrolled": true
   },
   "outputs": [],
   "source": [
    "# only getting done tasks\n",
    "tasks_df = get_items_by_board(conn, TASKS_BOARD_ID, \"status\", \"Done\")\n",
    "\n",
    "# Only include Ready tasks\n",
    "logger.info(\"Selecting Ready tasks\")\n",
    "tasks_df = tasks_df.loc[\n",
    "    tasks_df[\"Integration Message\"].str.startswith(\"Ready\", na=False)\n",
    "]\n",
    "\n",
    "tasks_df.rename(\n",
    "    columns={\n",
    "        \"monday_id\": \"MDC Task ID\",\n",
    "        \"monday_name\": \"Task Name\",\n",
    "        \"Customer Project\": \"MDC Project ID\",\n",
    "        \"Notes\": \"Task Notes\",\n",
    "    },\n",
    "    inplace=True,\n",
    ")\n",
    "\n",
    "tasks_df.drop(\n",
    "    columns=[\n",
    "        \"Subtasks\",\n",
    "        \"Customer Repos\",\n",
    "        \"Timeline Hours (Estimated)__formula\",\n",
    "        \"Timeline__visualization_type\",\n",
    "        \"Actual Time__running\",\n",
    "        \"Timeline__to\",\n",
    "        \"Timeline__from\",\n",
    "        \"Timeline__changed_at\",\n",
    "        \"Timeline Days\",\n",
    "        \"Total Actual Hours__formula\",\n",
    "        \"Date Added__default_formatter\",\n",
    "        \"Timeline\",\n",
    "        \"Actual Time__startDate\",\n",
    "        \"Actual Time__changed_at\",\n",
    "        \"Actual Time\",\n",
    "        \"Date Added\",\n",
    "        \"Dependencies\",\n",
    "        \"Project Status__mirror\",\n",
    "        \"Project Closed Date__mirror\",\n",
    "        \"Extended Hours\",\n",
    "        \"Reported Month-end Date\",\n",
    "    ],\n",
    "    inplace=True,\n",
    ")\n",
    "tasks_df.head()"
   ]
  },
  {
   "cell_type": "code",
   "execution_count": null,
   "id": "0c90fd55",
   "metadata": {
    "scrolled": true
   },
   "outputs": [],
   "source": [
    "# Get just this period's tasks\n",
    "# convert to a datetime... a bit crude for filtering by year and month\n",
    "tasks_df[\"task_end_date\"] = pd.to_datetime(tasks_df[\"Date Completed\"])\n",
    "\n",
    "tasks_df[\"task_end_year\"] = pd.DatetimeIndex(tasks_df[\"task_end_date\"]).year\n",
    "tasks_df[\"task_end_month\"] = pd.DatetimeIndex(tasks_df[\"task_end_date\"]).month\n",
    "\n",
    "# only interested in this month's tasks\n",
    "mask = (tasks_df[\"task_end_year\"] == year_for_report) & (\n",
    "    tasks_df[\"task_end_month\"] == month_for_report\n",
    ")\n",
    "tasks_df = tasks_df.loc[mask].copy()\n",
    "\n",
    "tasks_df = tasks_df.explode([\"MDC Project ID\"], ignore_index=True)\n",
    "\n",
    "tasks_df.drop(\n",
    "    columns=[\"task_end_date\", \"task_end_year\", \"task_end_month\"],\n",
    "    inplace=True,\n",
    ")\n",
    "\n",
    "tasks_df[\"Month Ending Date\"] = month_ending_date\n",
    "\n",
    "tasks_df"
   ]
  },
  {
   "cell_type": "markdown",
   "id": "43863082",
   "metadata": {},
   "source": [
    "## Validate takes an individual record and checks it against rules, and creates multiple task records where required.\n",
    "\n",
    "If actual hours is used, then the number of owners dictates the number of journal records. E.g., actual hours = 15, with 3 owners, yields three journal entries at 5 each (actual hours / owner count)."
   ]
  },
  {
   "cell_type": "code",
   "execution_count": null,
   "id": "84091f22",
   "metadata": {},
   "outputs": [],
   "source": [
    "def breakout_sessions(record, sessions_list):\n",
    "    \"\"\"\n",
    "    run through sessions and\n",
    "    create new journal tasks for each one\n",
    "\n",
    "    return a list of dictionaries\n",
    "    \"\"\"\n",
    "    session_records = []\n",
    "\n",
    "    actual_hours = record[\"Actual Time__duration\"] / 60 / 60\n",
    "\n",
    "    task_id = record[\"MDC Task ID\"]\n",
    "\n",
    "    i = 1\n",
    "    # multiply the number of tasks by sessions\n",
    "    for session in sessions_list:\n",
    "\n",
    "        new_rec = copy.deepcopy(record)\n",
    "\n",
    "        new_rec[\"MDC Resource ID\"] = session[\"ended_user_id\"]\n",
    "        new_rec[\"Resource Name\"] = users_df.loc[session[\"ended_user_id\"]][\"name\"]\n",
    "\n",
    "        start_date = parser.parse(session[\"started_at\"])\n",
    "        end_date = parser.parse(session[\"ended_at\"])\n",
    "        new_rec[\"Session Completed\"] = end_date.strftime(\"%Y-%m-%d\")\n",
    "\n",
    "        # take the difference between the two dates as hours\n",
    "        difference = end_date - start_date\n",
    "        new_rec[\"Completed Hours\"] = difference.total_seconds() / 60 / 60\n",
    "\n",
    "        # show each task ID with an index\n",
    "        new_rec[\"MDC Task ID\"] = f\"{task_id}-{i}\"\n",
    "        i = i + 1\n",
    "\n",
    "        new_rec[\"integration_state_rule\"] = \"hours_from_session_records\"\n",
    "        session_records.append(new_rec)\n",
    "\n",
    "    return session_records"
   ]
  },
  {
   "cell_type": "code",
   "execution_count": null,
   "id": "8aee6b55",
   "metadata": {
    "scrolled": false
   },
   "outputs": [],
   "source": [
    "def breakdown_owners(record, owners_list):\n",
    "    \"\"\"\n",
    "    check for actual hours records, and split the hours across the owners\n",
    "\n",
    "    return a list of dictionaries\n",
    "    \"\"\"\n",
    "    owner_records = []\n",
    "\n",
    "    actual_hours = record[\"Actual Hours\"]\n",
    "    len_owners_list = len(owners_list)\n",
    "    date_completed = record[\"Date Completed\"]\n",
    "\n",
    "    # split the hours up between the owners\n",
    "    for owner in owners_list:\n",
    "        new_rec = copy.deepcopy(record)\n",
    "\n",
    "        # overwrite the owner\n",
    "        new_rec[\"MDC Resource ID\"] = owner[\"id\"]\n",
    "        new_rec[\"Resource Name\"] = users_df.loc[owner[\"id\"]][\"name\"]\n",
    "\n",
    "        # divide the task time\n",
    "        new_rec[\"Completed Hours\"] = actual_hours / len_owners_list\n",
    "\n",
    "        new_rec[\"Session Completed\"] = parser.parse(f\"{date_completed}\").strftime(\n",
    "            \"%Y-%m-%d\"\n",
    "        )\n",
    "\n",
    "        new_rec[\"integration_state_rule\"] = \"hours_split_between_owners\"\n",
    "        owner_records.append(new_rec)\n",
    "\n",
    "    return owner_records"
   ]
  },
  {
   "cell_type": "code",
   "execution_count": null,
   "id": "85bf93f4",
   "metadata": {},
   "outputs": [],
   "source": [
    "records = tasks_df.to_dict(orient=\"records\")\n",
    "\n",
    "calcd_records = []\n",
    "\n",
    "for record in records:\n",
    "\n",
    "    owners_list = record[\"Owner\"] if isinstance(record[\"Owner\"], list) else []\n",
    "    sessions_list = (\n",
    "        record[\"Actual Time__additional_value\"]\n",
    "        if isinstance(record[\"Actual Time__additional_value\"], list)\n",
    "        else []\n",
    "    )\n",
    "\n",
    "    if len(sessions_list) > 0:\n",
    "        logger.info(f\"Breaking down {record['MDC Task ID']} by sessions\")\n",
    "        session_records = breakout_sessions(record, sessions_list)\n",
    "        calcd_records = calcd_records + session_records\n",
    "    elif len(owners_list) > 0:\n",
    "        logger.info(f\"Breaking out {record['MDC Task ID']} by owners\")\n",
    "        owner_records = breakdown_owners(record, owners_list)\n",
    "        calcd_records = calcd_records + owner_records\n",
    "    else:\n",
    "        logger.error(\"Neither owners nor sessions have lists.\")"
   ]
  },
  {
   "cell_type": "code",
   "execution_count": null,
   "id": "3d0ca9a9",
   "metadata": {},
   "outputs": [],
   "source": [
    "journal_task_df = pd.DataFrame(calcd_records)\n",
    "journal_task_df.drop(\n",
    "    columns=[\n",
    "        \"Status__changed_at\",\n",
    "        \"Actual Time__duration\",\n",
    "        \"Actual Time__additional_value\",\n",
    "        \"Owner\",\n",
    "        \"Actual Hours\",\n",
    "    ],\n",
    "    inplace=True,\n",
    ")\n",
    "journal_task_df.rename(columns={\"Status__text\": \"Status\"}, inplace=True)\n",
    "journal_task_df"
   ]
  },
  {
   "cell_type": "markdown",
   "id": "8d5542da",
   "metadata": {},
   "source": [
    "Finally merge the tasks and projects together for a final task list."
   ]
  },
  {
   "cell_type": "code",
   "execution_count": null,
   "id": "489577e6",
   "metadata": {},
   "outputs": [],
   "source": [
    "# the final dataframe includes the clients, projects and the tasks\n",
    "df = pd.merge(\n",
    "    journal_task_df,\n",
    "    projects_df,\n",
    "    how=\"left\",\n",
    "    on=\"MDC Project ID\",\n",
    ")\n",
    "df"
   ]
  },
  {
   "cell_type": "code",
   "execution_count": null,
   "id": "7017a50a",
   "metadata": {},
   "outputs": [],
   "source": [
    "# create a group by report for posting to SE Project/Grant Time smartsheet\n",
    "report_df = (\n",
    "    df.groupby([\"MDC Client ID\", \"MDC Project ID\", \"MDC Resource ID\"])\n",
    "    .agg(\n",
    "        {\n",
    "            \"Completed Hours\": \"sum\",\n",
    "            \"Month Ending Date\": \"first\",\n",
    "            \"Grant Number\": \"first\",\n",
    "            \"No Bill\": \"first\",\n",
    "            \"Client Name\": \"first\",\n",
    "            \"Project Name\": \"first\",\n",
    "            \"Resource Name\": \"first\",\n",
    "        }\n",
    "    )\n",
    "    .reset_index()\n",
    ")\n",
    "report_df"
   ]
  },
  {
   "cell_type": "code",
   "execution_count": null,
   "id": "9444c34b",
   "metadata": {},
   "outputs": [],
   "source": [
    "# only need billable\n",
    "# report_df = report_df.loc[report_df[\"No Bill\"] == False].reset_index(drop=True)\n",
    "# report_df"
   ]
  },
  {
   "cell_type": "markdown",
   "id": "bb5e677f",
   "metadata": {},
   "source": [
    "## Create JSON objects"
   ]
  },
  {
   "cell_type": "code",
   "execution_count": null,
   "id": "2841b0be",
   "metadata": {},
   "outputs": [],
   "source": [
    "def get_resource(users_df, resource_id):\n",
    "    \"\"\"\n",
    "    Given the users DF, lookup resource by resource ID\n",
    "\n",
    "    Return a list of dict\n",
    "    \"\"\"\n",
    "    users_df[\"MDC Resource ID\"] = users_df.index\n",
    "    users_dict = users_df.loc[resource_id].to_dict()\n",
    "\n",
    "    resource = None\n",
    "    if len(users_dict) > 0:\n",
    "        resource = {\n",
    "            \"MDC Resource ID\": str(users_dict[\"MDC Resource ID\"]),\n",
    "            \"Resource Name\": users_dict[\"name\"],\n",
    "        }\n",
    "\n",
    "    return resource\n",
    "\n",
    "\n",
    "# mini test\n",
    "# get_resource(users_df, resource_id=25815860)"
   ]
  },
  {
   "cell_type": "code",
   "execution_count": null,
   "id": "4d20c3ca",
   "metadata": {},
   "outputs": [],
   "source": [
    "def get_tasks(users_df, tasks_df, project_id, resource_id):\n",
    "    \"\"\"\n",
    "    Given the final tasks DF, lookup resources and tasks by project ID and resource ID\n",
    "\n",
    "    Return a list of dict\n",
    "    \"\"\"\n",
    "\n",
    "    # keep a roster of resources and tasks\n",
    "\n",
    "    task_dict = tasks_df.loc[\n",
    "        (\n",
    "            (tasks_df[\"MDC Project ID\"] == project_id)\n",
    "            & (tasks_df[\"MDC Resource ID\"] == resource_id)\n",
    "        )\n",
    "    ].to_dict(\"records\")\n",
    "\n",
    "    resource = get_resource(users_df, resource_id)\n",
    "    resource[\"Tasks\"] = []\n",
    "\n",
    "    for task in task_dict:\n",
    "\n",
    "        # build up a task block\n",
    "        task_dict = {\n",
    "            \"MDC Task ID\": str(task[\"MDC Task ID\"]),\n",
    "            \"Task Name\": task[\"Task Name\"],\n",
    "            \"Notes\": task[\"Task Notes\"],\n",
    "            \"Pull Request URL\": task[\"Pull Request URL\"],\n",
    "            \"Issue URL\": task[\"Issue URL\"],\n",
    "            \"Completed Hours\": task[\"Completed Hours\"],\n",
    "            \"Task Complete Date\": task[\"Date Completed\"],\n",
    "            \"Integration Message\": task[\"integration_state_rule\"],\n",
    "            \"Session Complete Date\": task[\"Session Completed\"],\n",
    "        }\n",
    "\n",
    "        # append it to the list\n",
    "        resource[\"Tasks\"].append(task_dict)\n",
    "\n",
    "    return resource\n",
    "\n",
    "\n",
    "# mini test\n",
    "# pprint(get_tasks(users_df, df, project_id=2303324267, resource_id=25815853))"
   ]
  },
  {
   "cell_type": "code",
   "execution_count": null,
   "id": "cdc94b58",
   "metadata": {},
   "outputs": [],
   "source": [
    "# open the schema\n",
    "with open(os.path.join(\"schema\", \"effort_hours-resource.json\"), \"r\") as file:\n",
    "    schema = json.load(file)"
   ]
  },
  {
   "cell_type": "code",
   "execution_count": null,
   "id": "f1b8fa57",
   "metadata": {},
   "outputs": [],
   "source": [
    "# loop through the summary report and create files\n",
    "for index, row in report_df.iterrows():\n",
    "    project_id = row[\"MDC Project ID\"]\n",
    "    resource_id = row[\"MDC Resource ID\"]\n",
    "    resource_task_dict = get_tasks(\n",
    "        users_df,\n",
    "        df,\n",
    "        project_id=project_id,\n",
    "        resource_id=resource_id,\n",
    "    )\n",
    "    assert (True, None) == validate_json(schema, resource_task_dict)\n",
    "    filename = f\"{project_id}_{resource_id}_{month_ending_date}.json\"\n",
    "    with open(os.path.join(\"_cache\", filename), \"w\") as f:\n",
    "        f.write(json.dumps(resource_task_dict, indent=4))"
   ]
  },
  {
   "cell_type": "markdown",
   "id": "c489181d",
   "metadata": {},
   "source": [
    "Now, Smartsheet's turn?"
   ]
  },
  {
   "cell_type": "code",
   "execution_count": null,
   "id": "52c21fef",
   "metadata": {},
   "outputs": [],
   "source": [
    "# smartsheet can have duplicate sheet names,\n",
    "# so best not to rely on them\n",
    "time_sheet_id = 3567675495475076\n",
    "time_sheet = ss_client.Sheets.get_sheet(time_sheet_id)"
   ]
  },
  {
   "cell_type": "code",
   "execution_count": null,
   "id": "77bd1faa",
   "metadata": {},
   "outputs": [],
   "source": [
    "# break down the cell IDs into a quick lookup box\n",
    "cell_ids = {}\n",
    "for column in time_sheet.columns:\n",
    "    my_column = column.to_dict()\n",
    "    cell_ids[my_column[\"title\"]] = my_column[\"id\"]\n",
    "cell_ids"
   ]
  },
  {
   "cell_type": "markdown",
   "id": "6cf53b63",
   "metadata": {},
   "source": [
    "Add the records to Smartsheet"
   ]
  },
  {
   "cell_type": "code",
   "execution_count": null,
   "id": "d950c0e0",
   "metadata": {},
   "outputs": [],
   "source": [
    "rows = []\n",
    "for k, v in report_df.to_dict(\"index\").items():\n",
    "\n",
    "    row = ss_client.models.row.Row()\n",
    "\n",
    "    row.cells.append(\n",
    "        {\"column_id\": cell_ids[\"Account/Client\"], \"value\": v[\"Client Name\"]}\n",
    "    )\n",
    "    if v.get(\"Grant Number\"):\n",
    "        row.cells.append(\n",
    "            {\"column_id\": cell_ids[\"Grant Proposal #\"], \"value\": v[\"Grant Number\"]}\n",
    "        )\n",
    "    row.cells.append(\n",
    "        {\"column_id\": cell_ids[\"Project Title\"], \"value\": v[\"Project Name\"]}\n",
    "    )\n",
    "    row.cells.append(\n",
    "        {\"column_id\": cell_ids[\"Month-end Date\"], \"value\": v[\"Month Ending Date\"]}\n",
    "    )\n",
    "    row.cells.append(\n",
    "        {\"column_id\": cell_ids[\"Completed Hours\"], \"value\": v[\"Completed Hours\"]}\n",
    "    )\n",
    "    row.cells.append({\"column_id\": cell_ids[\"Resource\"], \"value\": v[\"Resource Name\"]})\n",
    "    row.cells.append(\n",
    "        {\"column_id\": cell_ids[\"MDC Account ID\"], \"value\": v[\"MDC Client ID\"]}\n",
    "    )\n",
    "    row.cells.append(\n",
    "        {\"column_id\": cell_ids[\"MDC Project ID\"], \"value\": v[\"MDC Project ID\"]}\n",
    "    )\n",
    "    row.cells.append(\n",
    "        {\"column_id\": cell_ids[\"MDC Resource ID\"], \"value\": v[\"MDC Resource ID\"]}\n",
    "    )\n",
    "\n",
    "    row.cells.append({\"column_id\": cell_ids[\"Posted Date\"], \"value\": prepared_date})\n",
    "\n",
    "    row.to_bottom = True\n",
    "    rows.append(row)"
   ]
  },
  {
   "cell_type": "code",
   "execution_count": null,
   "id": "8695e880",
   "metadata": {},
   "outputs": [],
   "source": [
    "result = None\n",
    "if rows and post_records:\n",
    "    logger.info(\"Adding %s posted rows to SmartSheet\", len(rows))\n",
    "    result = ss_client.Sheets.add_rows(time_sheet_id, rows)\n",
    "\n",
    "result"
   ]
  },
  {
   "cell_type": "code",
   "execution_count": null,
   "id": "f17884bb",
   "metadata": {},
   "outputs": [],
   "source": [
    "# get the row ids and and update the dataframe so we know where to attach a file\n",
    "if result and post_records:\n",
    "    my_list = []\n",
    "    for row in result.to_dict()[\"data\"]:\n",
    "        my_list.append(row[\"id\"])\n",
    "\n",
    "    row_series = pd.Series(my_list, name=\"row_id\", dtype=np.int64)\n",
    "    row_series\n",
    "\n",
    "    report_df = pd.concat([report_df, row_series], axis=1)\n",
    "else:\n",
    "    logger.warning(\"Not posting\")\n",
    "\n",
    "report_df"
   ]
  },
  {
   "cell_type": "code",
   "execution_count": null,
   "id": "c5524f09",
   "metadata": {},
   "outputs": [],
   "source": [
    "# attach the json we created way above in the _cache folder\n",
    "if post_records:\n",
    "    for index, row in report_df.iterrows():\n",
    "        filename = f\"{row['MDC Project ID']}_{row['MDC Resource ID']}_{row['Month Ending Date']}.json\"\n",
    "        logger.info(f\"Writing file {filename} to smartsheet...\")\n",
    "\n",
    "        with open(os.path.join(\"_cache\", filename), \"r\") as f:\n",
    "            ss_client.Attachments.attach_file_to_row(time_sheet_id, row[\"row_id\"], f)"
   ]
  },
  {
   "cell_type": "code",
   "execution_count": null,
   "id": "49e67524",
   "metadata": {},
   "outputs": [],
   "source": [
    "if post_records:\n",
    "    for index, row in df.iterrows():\n",
    "        result = conn.items.change_item_value(\n",
    "            TASKS_BOARD_ID, \n",
    "            str(row[\"MDC Task ID\"]).split('-')[0], \n",
    "            \"text01\", \n",
    "            f\"Posted - {datetime.now()}\",\n",
    "        )\n",
    "else:\n",
    "    logger.warning(\"Not posting\")"
   ]
  },
  {
   "cell_type": "markdown",
   "id": "e72f0aff",
   "metadata": {},
   "source": [
    "Delete any estimates"
   ]
  },
  {
   "cell_type": "code",
   "execution_count": null,
   "id": "d322f82b",
   "metadata": {},
   "outputs": [],
   "source": [
    "# delete the estimates only\n",
    "result = None\n",
    "# only do this if we had some monthly tasks to report\n",
    "if post_records and len(report_df) > 0:\n",
    "    result = ss_client.Sheets.get_sheet(time_sheet_id, filter_id=5850658663360388)\n",
    "    rows_to_delete = [x[\"id\"] for x in result.to_dict()[\"rows\"] if not x[\"filteredOut\"]]\n",
    "    if rows_to_delete:\n",
    "        result = ss_client.Sheets.delete_rows(posted_tasks_id, rows_to_delete)\n",
    "else:\n",
    "    logger.warning(\"Not writing estimates\")\n",
    "\n",
    "result"
   ]
  },
  {
   "cell_type": "code",
   "execution_count": null,
   "id": "fd210fe4",
   "metadata": {},
   "outputs": [],
   "source": []
  }
 ],
 "metadata": {
  "celltoolbar": "Tags",
  "kernelspec": {
   "display_name": "Python 3 (ipykernel)",
   "language": "python",
   "name": "python3"
  },
  "language_info": {
   "codemirror_mode": {
    "name": "ipython",
    "version": 3
   },
   "file_extension": ".py",
   "mimetype": "text/x-python",
   "name": "python",
   "nbconvert_exporter": "python",
   "pygments_lexer": "ipython3",
   "version": "3.10.4"
  }
 },
 "nbformat": 4,
 "nbformat_minor": 5
}
