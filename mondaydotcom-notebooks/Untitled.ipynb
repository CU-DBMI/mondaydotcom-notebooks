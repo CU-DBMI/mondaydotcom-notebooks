{
 "cells": [
  {
   "cell_type": "code",
   "execution_count": null,
   "id": "f5016a43",
   "metadata": {},
   "outputs": [],
   "source": []
  },
  {
   "cell_type": "code",
   "execution_count": 82,
   "id": "08813f91",
   "metadata": {},
   "outputs": [],
   "source": [
    "import os\n",
    "import json\n",
    "import jsonschema\n",
    "\n",
    "from pathlib import Path\n",
    "from jsonschema import validate, ValidationError, Draft7Validator, RefResolver\n",
    "from jsonschema.exceptions import RefResolutionError\n",
    "\n",
    "import numpy as np"
   ]
  },
  {
   "cell_type": "code",
   "execution_count": 83,
   "id": "647e9131",
   "metadata": {},
   "outputs": [],
   "source": [
    "def get_schema(filename):\n",
    "    \"\"\"This function loads the given schema available\"\"\"\n",
    "    with open(filename, 'r') as file:\n",
    "        schema = json.load(file)\n",
    "    return schema"
   ]
  },
  {
   "cell_type": "code",
   "execution_count": 89,
   "id": "29247334",
   "metadata": {},
   "outputs": [],
   "source": [
    "def validate_json(schema, json_data):\n",
    "    \n",
    "    # https://stackoverflow.com/questions/25145160/json-schema-ref-does-not-work-for-relative-path\n",
    "    schemas = (json.load(open(source)) for source in Path(\"schema\").iterdir())\n",
    "    schema_store = {schema[\"$id\"]: schema for schema in schemas}\n",
    "    \n",
    "    resolver = RefResolver.from_schema(schema, store=schema_store)\n",
    "    \n",
    "    try:\n",
    "        result = validate(instance=json_data, schema=schema, resolver=resolver)\n",
    "        return True, None\n",
    "    except ValidationError as err:\n",
    "        return False, err.message"
   ]
  },
  {
   "cell_type": "code",
   "execution_count": 90,
   "id": "16a43a70",
   "metadata": {},
   "outputs": [],
   "source": [
    "def validate_json2(schema, json_data):\n",
    "\n",
    "    # https://stackoverflow.com/questions/25145160/json-schema-ref-does-not-work-for-relative-path\n",
    "    schemas = (json.load(open(source)) for source in Path(\"schema\").iterdir())\n",
    "    schema_store = {schema[\"$id\"]: schema for schema in schemas}    \n",
    "    \n",
    "    resolver = RefResolver.from_schema(schema, store=schema_store)\n",
    "    validator = Draft7Validator(schema, resolver=resolver)\n",
    "\n",
    "    try:\n",
    "        errors = sorted(validator.iter_errors(json_data), key=lambda e: e.path)\n",
    "    except RefResolutionError as e:\n",
    "        print(e)"
   ]
  },
  {
   "cell_type": "code",
   "execution_count": 91,
   "id": "6d8e1ebb",
   "metadata": {
    "scrolled": true
   },
   "outputs": [
    {
     "data": {
      "text/plain": [
       "{'$id': 'effort_hours-report.json',\n",
       " '$schema': 'https://json-schema.org/draft/2020-12/schema',\n",
       " 'description': 'An effort hours report for an individual Client',\n",
       " 'additionalProperties': False,\n",
       " 'type': 'object',\n",
       " 'title': 'An effort report',\n",
       " 'required': ['Client', 'Month-ending Date', 'Report Prepared Date'],\n",
       " 'properties': {'Client': {'$ref': 'effort_hours-client.json'},\n",
       "  'Month-ending Date': {'type': 'string',\n",
       "   'format': 'date',\n",
       "   'title': 'Hours calculated for the client for the month'},\n",
       "  'Report Prepared Date': {'type': 'string',\n",
       "   'format': 'date',\n",
       "   'title': 'Hours calculated for the month'},\n",
       "  'Notes': {'type': ['string', 'null'], 'title': 'Optional Client Notes'}}}"
      ]
     },
     "execution_count": 91,
     "metadata": {},
     "output_type": "execute_result"
    }
   ],
   "source": [
    "schema = get_schema(os.path.join('schema','effort_hours-report.json'))\n",
    "schema"
   ]
  },
  {
   "cell_type": "code",
   "execution_count": 93,
   "id": "c86f3bb1",
   "metadata": {},
   "outputs": [
    {
     "data": {
      "text/plain": [
       "(True, None)"
      ]
     },
     "execution_count": 93,
     "metadata": {},
     "output_type": "execute_result"
    }
   ],
   "source": [
    "with open('onelab.json', 'r') as fp:\n",
    "    onelab = json.load(fp)\n",
    "validate_json(schema, onelab)"
   ]
  },
  {
   "cell_type": "code",
   "execution_count": null,
   "id": "3be4e030",
   "metadata": {},
   "outputs": [],
   "source": []
  }
 ],
 "metadata": {
  "kernelspec": {
   "display_name": "Python 3 (ipykernel)",
   "language": "python",
   "name": "python3"
  },
  "language_info": {
   "codemirror_mode": {
    "name": "ipython",
    "version": 3
   },
   "file_extension": ".py",
   "mimetype": "text/x-python",
   "name": "python",
   "nbconvert_exporter": "python",
   "pygments_lexer": "ipython3",
   "version": "3.9.12"
  }
 },
 "nbformat": 4,
 "nbformat_minor": 5
}
