{
 "cells": [
  {
   "cell_type": "markdown",
   "id": "a7fe9993",
   "metadata": {},
   "source": [
    "# Create Monthly Task Reports in Smartsheet\n"
   ]
  },
  {
   "cell_type": "code",
   "execution_count": null,
   "id": "e2baec28",
   "metadata": {},
   "outputs": [],
   "source": [
    "import os\n",
    "import json\n",
    "import logging\n",
    "from datetime import datetime, timedelta\n",
    "from dateutil import parser\n",
    "from typing import Dict, List\n",
    "\n",
    "import pandas as pd\n",
    "import numpy as np\n",
    "import prefect\n",
    "from box import Box\n",
    "\n",
    "import smartsheet\n",
    "\n",
    "# uses the pretty okay SDK here: https://github.com/ProdPerfect/monday\n",
    "from monday import MondayClient\n",
    "\n",
    "from mondaydotcom_utils.formatted_value import (\n",
    "    FormattedValue,\n",
    "    get_col_defs,\n",
    "    get_items_by_board,\n",
    ")\n",
    "\n",
    "import scrapbook as sb\n",
    "import dotenv\n",
    "\n",
    "from prefect import Flow, Parameter, task, unmapped\n",
    "from prefect.executors import LocalDaskExecutor, LocalExecutor\n",
    "\n",
    "logger = logging.getLogger(__name__)\n",
    "logger.setLevel(logging.INFO)"
   ]
  },
  {
   "cell_type": "code",
   "execution_count": null,
   "id": "6b4bb728",
   "metadata": {},
   "outputs": [],
   "source": [
    "TASKS_BOARD_ID = \"1883170887\"\n",
    "AGREEMENTS_BOARD_ID = \"1882423671\"\n",
    "PROJECTS_BOARD_ID = \"1882404316\"\n",
    "ACCOUNTS_BOARD_ID = \"1882424009\"\n",
    "\n",
    "PROJECT_TASK_TIME_BOARD_ID = \"2398200403\"\n",
    "\n",
    "posted_tasks_id = 3567675495475076"
   ]
  },
  {
   "cell_type": "code",
   "execution_count": null,
   "id": "22761bef",
   "metadata": {
    "tags": [
     "parameters"
    ]
   },
   "outputs": [],
   "source": [
    "environment = \"dev\"\n",
    "\n",
    "# change these or set as papermill parameters to report on year and month\n",
    "year_for_report = 2022\n",
    "month_for_report = 4"
   ]
  },
  {
   "cell_type": "code",
   "execution_count": null,
   "id": "453afb8c",
   "metadata": {},
   "outputs": [],
   "source": [
    "#check the environment vars for secrets\n",
    "\n",
    "env_file = f\".env-{environment}\"\n",
    "logger.info(\"Loading the .env file from %s\", env_file)\n",
    "dotenv.load_dotenv(dotenv.find_dotenv(env_file))\n",
    "\n",
    "assert os.environ.get(\"MONDAY_KEY\"), f\"MONDAY_KEY not found in {env_file}\"\n",
    "assert os.environ.get(\"SMARTSHEET_KEY\"), f\"SMARTSHEET_KEY not found in {env_file}\""
   ]
  },
  {
   "cell_type": "code",
   "execution_count": null,
   "id": "6273af4b",
   "metadata": {},
   "outputs": [],
   "source": [
    "# connect monday client\n",
    "conn = MondayClient(os.environ.get(\"MONDAY_KEY\"))"
   ]
  },
  {
   "cell_type": "code",
   "execution_count": null,
   "id": "8d173051",
   "metadata": {},
   "outputs": [],
   "source": [
    "# connect smartsheet client\n",
    "ss_client = smartsheet.Smartsheet(os.environ.get(\"SMARTSHEET_KEY\"))\n",
    "ss_client.errors_as_exceptions(True)"
   ]
  },
  {
   "cell_type": "code",
   "execution_count": null,
   "id": "d2e80f2a",
   "metadata": {},
   "outputs": [],
   "source": [
    "# bug between ProdPerfect and MDC's API: https://github.com/ProdPerfect/monday/issues/57\n",
    "from monday.resources.base import BaseResource\n",
    "\n",
    "query = \"\"\"query\n",
    "    {\n",
    "        users () {\n",
    "            id\n",
    "            name\n",
    "            email\n",
    "            enabled\n",
    "        }\n",
    "    }\"\"\"\n",
    "query"
   ]
  },
  {
   "cell_type": "code",
   "execution_count": null,
   "id": "6d100987",
   "metadata": {},
   "outputs": [],
   "source": [
    "base_resource = BaseResource(os.environ.get(\"MONDAY_KEY\"))\n",
    "users = base_resource._query(query)[\"data\"][\"users\"]"
   ]
  },
  {
   "cell_type": "code",
   "execution_count": null,
   "id": "317dd1e2",
   "metadata": {},
   "outputs": [],
   "source": [
    "users_df = pd.DataFrame(users).set_index(\"id\")\n",
    "users_df.head()"
   ]
  },
  {
   "cell_type": "code",
   "execution_count": null,
   "id": "c82c5dc3",
   "metadata": {},
   "outputs": [],
   "source": [
    "accounts_df = get_items_by_board(conn, ACCOUNTS_BOARD_ID).fillna(\"\")\n",
    "\n",
    "accounts_df.rename(\n",
    "    columns={\n",
    "        \"monday_id\": \"account_id\",\n",
    "        \"monday_name\": \"Client Name\",\n",
    "        \"No Bill__checked\": \"No Bill\",\n",
    "    },\n",
    "    inplace=True,\n",
    ")\n",
    "\n",
    "accounts_df.drop(\n",
    "    columns=[\n",
    "        \"Contacts\",\n",
    "        \"Item ID\",\n",
    "        \"Subitems\",\n",
    "        \"Notes\",\n",
    "        \"Customer Projects\",\n",
    "        \"Agreements\",\n",
    "        \"Type__text\",\n",
    "        \"Type__changed_at\",\n",
    "        \"Type\",\n",
    "        \"No Bill__changed_at\",\n",
    "        \"Item ID__default_formatter\",\n",
    "    ],\n",
    "    inplace=True,\n",
    "    errors=\"ignore\",\n",
    ")\n",
    "\n",
    "accounts_df"
   ]
  },
  {
   "cell_type": "code",
   "execution_count": null,
   "id": "5e1439e8",
   "metadata": {},
   "outputs": [],
   "source": [
    "projects_df = get_items_by_board(conn, PROJECTS_BOARD_ID).fillna(\"\")\n",
    "\n",
    "projects_df.rename(\n",
    "    columns={\n",
    "        \"monday_id\": \"project_id\",\n",
    "        \"monday_name\": \"Project Title\",\n",
    "        \"Project Lifecycle__text\": \"Project Lifecycle\",\n",
    "        \"Account\": \"account_id\",\n",
    "    },\n",
    "    inplace=True,\n",
    ")\n",
    "\n",
    "projects_df.drop(\n",
    "    columns=[\n",
    "        \"Project Tasks\",\n",
    "        \"Subitems\",\n",
    "        \"Project Contacts\",\n",
    "        \"SET Resource\",\n",
    "        \"Timeline\",\n",
    "        \"Customer Source\",\n",
    "        \"Dependency\",\n",
    "        \"Date Added\",\n",
    "        \"Timeline Days\",\n",
    "        \"Item ID\",\n",
    "        \"Project Health\",\n",
    "        \"Notes\",\n",
    "        \"Agreements\",\n",
    "        \"Project Health__text\",\n",
    "        \"Project Health__changed_at\",\n",
    "        \"Date Added__default_formatter\",\n",
    "        \"Item ID__default_formatter\",\n",
    "        \"Tasks Status__mirror\",\n",
    "        \"Project Lifecycle__changed_at\",\n",
    "        \"Repo Description__mirror\",\n",
    "        \"Timeline__to\",\n",
    "        \"Timeline__from\",\n",
    "        \"Timeline__changed_at\",\n",
    "    ],\n",
    "    inplace=True,\n",
    "    errors=\"ignore\",\n",
    ")\n",
    "\n",
    "projects_df = projects_df.explode([\"account_id\"], ignore_index=True)\n",
    "projects_df"
   ]
  },
  {
   "cell_type": "code",
   "execution_count": null,
   "id": "b379876d",
   "metadata": {},
   "outputs": [],
   "source": [
    "# add the account to the projects\n",
    "projects_df = pd.merge(projects_df, accounts_df, how=\"left\", on=\"account_id\").drop(\n",
    "    columns=[\"account_id\"]\n",
    ")\n",
    "projects_df"
   ]
  },
  {
   "cell_type": "code",
   "execution_count": null,
   "id": "4375fe85",
   "metadata": {
    "scrolled": true
   },
   "outputs": [],
   "source": [
    "# only getting done tasks\n",
    "tasks_df = get_items_by_board(conn, TASKS_BOARD_ID, \"status\", \"Done\")\n",
    "\n",
    "# Only include Ready tasks\n",
    "tasks_df = tasks_df.loc[\n",
    "    tasks_df[\"Integration Message\"].str.startswith(\"Ready\", na=False)\n",
    "]\n",
    "\n",
    "tasks_df.rename(\n",
    "    columns={\n",
    "        \"monday_id\": \"task_id\",\n",
    "        \"monday_name\": \"Task Name\",\n",
    "        \"Customer Project\": \"project_id\",\n",
    "    },\n",
    "    inplace=True,\n",
    ")\n",
    "\n",
    "tasks_df.drop(\n",
    "    columns=[\n",
    "        \"Subtasks\",\n",
    "        \"Customer Repos\",\n",
    "        \"Billing Agreement\",\n",
    "        \"Timeline Hours (Estimated)__formula\",\n",
    "        \"Timeline__visualization_type\",\n",
    "        \"Actual Time__running\",\n",
    "        \"Timeline__to\",\n",
    "        \"Timeline__from\",\n",
    "        \"Timeline__changed_at\",\n",
    "        \"Timeline Days\",\n",
    "        \"Total Actual Hours__formula\",\n",
    "        \"Date Added__default_formatter\",\n",
    "        \"Timeline\",\n",
    "        \"Actual Time__startDate\",\n",
    "        \"Actual Time__changed_at\",\n",
    "        \"Actual Time\",\n",
    "        \"Date Added\",\n",
    "        \"Dependencies\",\n",
    "    ],\n",
    "    inplace=True,\n",
    "    errors=\"ignore\",\n",
    ")\n",
    "\n",
    "tasks_df = tasks_df.explode([\"project_id\"], ignore_index=True)\n",
    "tasks_df.head()"
   ]
  },
  {
   "cell_type": "markdown",
   "id": "43863082",
   "metadata": {},
   "source": [
    "Validate takes an individual record and checks it against rules, and creates multiple task records where required.\n",
    "\n",
    "If actual hours is used, then the number of owners dictates the number of journal records. E.g., actual hours = 15, with 3 owners, yields three journal entries at 5 each (actual hours / owner count)."
   ]
  },
  {
   "cell_type": "code",
   "execution_count": null,
   "id": "85bf93f4",
   "metadata": {},
   "outputs": [],
   "source": [
    "records = tasks_df.to_dict(orient=\"records\")"
   ]
  },
  {
   "cell_type": "code",
   "execution_count": null,
   "id": "8aee6b55",
   "metadata": {
    "scrolled": false
   },
   "outputs": [],
   "source": [
    "# check for actual hours records\n",
    "owner_records = []\n",
    "\n",
    "for record in records:\n",
    "\n",
    "    actual_hours = record[\"Actual Hours\"]\n",
    "    owners_list = record[\"Owner\"] if isinstance(record[\"Owner\"], list) else []\n",
    "    len_owners_list = len(owners_list)\n",
    "    date_completed = record[\"Date Completed\"]\n",
    "\n",
    "    if not np.isnan(actual_hours):\n",
    "        # split the hours up between the owners\n",
    "        for owner in owners_list:\n",
    "            new_rec = record.copy()\n",
    "\n",
    "            # overwrite the owner\n",
    "            new_rec[\"Owner\"] = users_df.loc[owner[\"id\"]][\"name\"]\n",
    "\n",
    "            # divide the task time\n",
    "            new_rec[\"hours\"] = actual_hours / len_owners_list\n",
    "\n",
    "            # get the task time from date completed... or fallback on the status\n",
    "            if record.get(\"Date Completed\") and record[\"Date Completed\"]:\n",
    "                new_rec[\"Task Completed\"] = parser.parse(\n",
    "                    f\"{date_completed} 00:00:00+00:00\"\n",
    "                )\n",
    "            else:\n",
    "                new_rec[\"Task Completed\"] = parser.parse(record[\"Status__changed_at\"])\n",
    "\n",
    "            new_rec[\"integration_state_rule\"] = \"hours_split_between_owners\"\n",
    "            owner_records.append(new_rec)\n",
    "\n",
    "owner_records_df = pd.DataFrame(owner_records)\n",
    "owner_records_df.drop(\n",
    "    columns=[\n",
    "        \"Actual Time__additional_value\",\n",
    "        \"Actual Time__duration\",\n",
    "        \"Status__changed_at\",\n",
    "        \"Actual Hours\",\n",
    "    ],\n",
    "    inplace=True,\n",
    ")\n",
    "owner_records_df.rename(columns={\"Status__text\": \"Status\"}, inplace=True)\n",
    "owner_records_df"
   ]
  },
  {
   "cell_type": "code",
   "execution_count": null,
   "id": "84091f22",
   "metadata": {},
   "outputs": [],
   "source": [
    "# run through the records, looking for sessions, and if found,\n",
    "# create new journal tasks for each one\n",
    "session_records = []\n",
    "\n",
    "for record in records:\n",
    "\n",
    "    if isinstance(record[\"Actual Time__additional_value\"], list):\n",
    "        sessions_list = record[\"Actual Time__additional_value\"]\n",
    "    else:\n",
    "        sessions_list = []\n",
    "\n",
    "    date_completed = record[\"Date Completed\"]\n",
    "    actual_hours = record[\"Actual Time__duration\"] / 60 / 60\n",
    "\n",
    "    # multiply the number of tasks by sessions\n",
    "    for session in sessions_list:\n",
    "        new_rec = record.copy()\n",
    "        new_rec[\"Owner\"] = users_df.loc[session[\"ended_user_id\"]][\"name\"]\n",
    "\n",
    "        start_date = parser.parse(session[\"started_at\"])\n",
    "        end_date = parser.parse(session[\"ended_at\"])\n",
    "\n",
    "        # take the difference between the two dates as hours\n",
    "        difference = end_date - start_date\n",
    "        new_rec[\"hours\"] = difference.total_seconds() / 60 / 60\n",
    "\n",
    "        # get the task time from date completed... or fallback on the status\n",
    "        # we could also use the ended_at for each session, but the risk is\n",
    "        # we might post a session that should have been posted against the wrong month.\n",
    "        if record.get(\"Date Completed\") and record[\"Date Completed\"]:\n",
    "            new_rec[\"Task Completed\"] = parser.parse(f\"{date_completed} 00:00:00+00:00\")\n",
    "        else:\n",
    "            new_rec[\"Task Completed\"] = parser.parse(status_json[\"Status__changed_at\"])\n",
    "\n",
    "    new_rec[\"integration_state_rule\"] = \"hours_from_session_records\"\n",
    "    session_records.append(new_rec)\n",
    "\n",
    "session_records_df = pd.DataFrame(session_records)\n",
    "session_records_df.drop(\n",
    "    columns=[\n",
    "        \"Actual Time__additional_value\",\n",
    "        \"Actual Time__duration\",\n",
    "        \"Status__changed_at\",\n",
    "        \"Actual Hours\",\n",
    "    ],\n",
    "    inplace=True,\n",
    ")\n",
    "session_records_df.rename(columns={\"Status__text\": \"Status\"}, inplace=True)\n",
    "session_records_df.sort_values(by=\"Task Name\")"
   ]
  },
  {
   "cell_type": "code",
   "execution_count": null,
   "id": "cd45262c",
   "metadata": {},
   "outputs": [],
   "source": [
    "# merge the owner and session records\n",
    "journal_task_df = pd.concat([owner_records_df, session_records_df])\n",
    "journal_task_df"
   ]
  },
  {
   "cell_type": "markdown",
   "id": "ab29190f",
   "metadata": {},
   "source": [
    "Break down the Monday.com session items into individual \"journal tasks\"."
   ]
  },
  {
   "cell_type": "code",
   "execution_count": null,
   "id": "14480b63",
   "metadata": {},
   "outputs": [],
   "source": [
    "# convert to a datetime... a bit crude for filtering by year and month\n",
    "journal_task_df[\"task_end_date\"] = pd.to_datetime(journal_task_df[\"Date Completed\"])\n",
    "journal_task_df[\"task_end_year\"] = pd.DatetimeIndex(\n",
    "    journal_task_df[\"task_end_date\"]\n",
    ").year\n",
    "journal_task_df[\"task_end_month\"] = pd.DatetimeIndex(\n",
    "    journal_task_df[\"task_end_date\"]\n",
    ").month\n",
    "\n",
    "journal_task_df.head()"
   ]
  },
  {
   "cell_type": "code",
   "execution_count": null,
   "id": "143ae5f1",
   "metadata": {},
   "outputs": [],
   "source": [
    "# only interested in this month's tasks\n",
    "mask = (journal_task_df[\"task_end_year\"] == year_for_report) & (\n",
    "    journal_task_df[\"task_end_month\"] == month_for_report\n",
    ")\n",
    "journal_task_df = journal_task_df.loc[mask].copy()\n",
    "\n",
    "# Some of this helped build the record, some is just mirror or lookup gak.\n",
    "journal_task_df.drop(\n",
    "    columns=[\n",
    "        \"Actual Hours\",\n",
    "        \"Actual Time\",\n",
    "        \"Customer Repos\",\n",
    "        \"Date Added\",\n",
    "        \"Date Completed\",\n",
    "        \"Dependencies\",\n",
    "        \"Integration Message\",\n",
    "        \"Subtasks\",\n",
    "        \"Timeline\",\n",
    "        \"Total Actual Hours (formula)\",\n",
    "        \"Total Duration Hours\",\n",
    "        \"Time Sessions\",\n",
    "        \"Status\",\n",
    "        \"Timeline Hours (Estimated) (formula)\",\n",
    "        \"Project Lifecycle (mirror)\",\n",
    "        \"Billing Agreement\",\n",
    "        \"Timeline Days\",\n",
    "        \"task_status\",\n",
    "    ],\n",
    "    inplace=True,\n",
    "    errors=\"ignore\",\n",
    ")\n",
    "\n",
    "journal_task_df"
   ]
  },
  {
   "cell_type": "markdown",
   "id": "8d5542da",
   "metadata": {},
   "source": [
    "Finally merge the tasks and projects together for a final task list."
   ]
  },
  {
   "cell_type": "code",
   "execution_count": null,
   "id": "853119b0",
   "metadata": {},
   "outputs": [],
   "source": [
    "def month_end_date(year, month):\n",
    "    \"\"\"Calculate the month end date given a year and month.\"\"\"\n",
    "    month += 1\n",
    "    if month == 13:\n",
    "        month = 1\n",
    "        year += 1\n",
    "\n",
    "    tempdate = datetime.strptime(f\"{year}-{month}-1\", \"%Y-%m-%d\")\n",
    "    return (tempdate - timedelta(days=1)).strftime(\"%Y-%m-%d\")"
   ]
  },
  {
   "cell_type": "code",
   "execution_count": null,
   "id": "c9ae04cf",
   "metadata": {},
   "outputs": [],
   "source": [
    "def month_end_me(row):\n",
    "    return month_end_date(row[\"task_end_year\"], row[\"task_end_month\"])"
   ]
  },
  {
   "cell_type": "code",
   "execution_count": null,
   "id": "489577e6",
   "metadata": {},
   "outputs": [],
   "source": [
    "df = pd.merge(\n",
    "    journal_task_df,\n",
    "    projects_df,\n",
    "    how=\"left\",\n",
    "    on=\"project_id\",\n",
    ")\n",
    "\n",
    "# create a month-ending date column\n",
    "month_end_dates = df.apply(month_end_me, axis=1)\n",
    "if len(month_end_dates) > 0:\n",
    "    df[\"Month Ending Date\"] = month_end_dates\n",
    "else:\n",
    "    # going through the motions now so the rest of the notebook will run\n",
    "    df[\"Month Ending Date\"] = None\n",
    "\n",
    "df.rename(\n",
    "    columns={\n",
    "        \"monday_id_x\": \"monday_id\",\n",
    "        \"monday_id_y\": \"project_id\",\n",
    "        \"Title_x\": \"Title\",\n",
    "        \"Title_y\": \"Project Title\",\n",
    "        \"Notes_x\": \"Notes\",\n",
    "        \"Notes_y\": \"Project Notes\",\n",
    "        \"hours\": \"Hours\",\n",
    "        \"Owner\": \"Resource\",\n",
    "    },\n",
    "    inplace=True,\n",
    ")\n",
    "\n",
    "df.drop(\n",
    "    columns=[\n",
    "        \"project_id\",\n",
    "        \"monday_id\",\n",
    "        \"task_end_year\",\n",
    "        \"task_end_month\",\n",
    "        \"Account\",\n",
    "    ],\n",
    "    inplace=True,\n",
    "    errors=\"ignore\",\n",
    ")\n",
    "\n",
    "df"
   ]
  },
  {
   "cell_type": "code",
   "execution_count": null,
   "id": "7017a50a",
   "metadata": {},
   "outputs": [],
   "source": [
    "# create a group by report and post to SE Project/Grant Time smartsheet\n",
    "report_df = (\n",
    "    df.groupby([\"Client Name\", \"Project Title\", \"Resource\"])\n",
    "    .agg(\n",
    "        {\n",
    "            \"Hours\": \"sum\",\n",
    "            \"Month Ending Date\": \"first\",\n",
    "            \"Grant Number\": \"first\",\n",
    "            \"No Bill\": \"first\",\n",
    "        }\n",
    "    )\n",
    "    .reset_index()\n",
    ")\n",
    "report_df"
   ]
  },
  {
   "cell_type": "code",
   "execution_count": null,
   "id": "81a5ec79",
   "metadata": {},
   "outputs": [],
   "source": [
    "def filter_tasks(df, client, project, resource, month_end_date):\n",
    "    \"\"\"Get the journal tasks based on the details we'll send to smartsheet.\"\"\"\n",
    "    return df[\n",
    "        (\n",
    "            (df[\"Client Name\"] == client)\n",
    "            & (df[\"Project Title\"] == project)\n",
    "            & (df[\"Resource\"] == resource)\n",
    "            & (df[\"Month Ending Date\"] == month_end_date)\n",
    "        )\n",
    "    ]"
   ]
  },
  {
   "cell_type": "markdown",
   "id": "c489181d",
   "metadata": {},
   "source": [
    "Now, Smartsheet's turn?"
   ]
  },
  {
   "cell_type": "code",
   "execution_count": null,
   "id": "52c21fef",
   "metadata": {},
   "outputs": [],
   "source": [
    "# smartsheet can have duplicate sheet names,\n",
    "# so best not to rely on them\n",
    "time_sheet_id = 3567675495475076\n",
    "time_sheet = ss_client.Sheets.get_sheet(time_sheet_id)"
   ]
  },
  {
   "cell_type": "code",
   "execution_count": null,
   "id": "77bd1faa",
   "metadata": {},
   "outputs": [],
   "source": [
    "# break down the cell IDs into a quick lookup box\n",
    "cell_ids = {}\n",
    "for column in time_sheet.columns:\n",
    "    my_column = column.to_dict()\n",
    "    cell_ids[my_column[\"title\"]] = my_column[\"id\"]\n",
    "cell_ids"
   ]
  },
  {
   "cell_type": "markdown",
   "id": "6cf53b63",
   "metadata": {},
   "source": [
    "Add the records to Smartsheet"
   ]
  },
  {
   "cell_type": "code",
   "execution_count": null,
   "id": "d950c0e0",
   "metadata": {},
   "outputs": [],
   "source": [
    "rows = []\n",
    "for k, v in report_df.to_dict(\"index\").items():\n",
    "\n",
    "    # only post billable projects\n",
    "    if not v[\"No Bill\"]:\n",
    "\n",
    "        row = ss_client.models.row.Row()\n",
    "\n",
    "        row.cells.append(\n",
    "            {\"column_id\": cell_ids[\"Account/Client\"], \"value\": v[\"Client Name\"]}\n",
    "        )\n",
    "        if v.get(\"Grant Number\"):\n",
    "            row.cells.append(\n",
    "                {\"column_id\": cell_ids[\"Grant Proposal #\"], \"value\": v[\"Grant Number\"]}\n",
    "            )\n",
    "        row.cells.append(\n",
    "            {\"column_id\": cell_ids[\"Project Title\"], \"value\": v[\"Project Title\"]}\n",
    "        )\n",
    "        row.cells.append(\n",
    "            {\"column_id\": cell_ids[\"Month-end Date\"], \"value\": v[\"Month Ending Date\"]}\n",
    "        )\n",
    "        row.cells.append(\n",
    "            {\"column_id\": cell_ids[\"Completed Hours\"], \"value\": v[\"Hours\"]}\n",
    "        )\n",
    "        row.cells.append({\"column_id\": cell_ids[\"Resource\"], \"value\": v[\"Resource\"]})\n",
    "\n",
    "        row.to_bottom = True\n",
    "        rows.append(row)"
   ]
  },
  {
   "cell_type": "code",
   "execution_count": null,
   "id": "8695e880",
   "metadata": {},
   "outputs": [],
   "source": [
    "result = None\n",
    "if rows:\n",
    "    logger.info(\"Adding %s posted rows to SmartSheet\", len(rows))\n",
    "    result = ss_client.Sheets.add_rows(time_sheet_id, rows)\n",
    "\n",
    "result"
   ]
  },
  {
   "cell_type": "code",
   "execution_count": null,
   "id": "f17884bb",
   "metadata": {},
   "outputs": [],
   "source": [
    "# get the row ids and create a Series\n",
    "if result:\n",
    "    my_list = []\n",
    "    for row in result.to_dict()[\"data\"]:\n",
    "        my_list.append(row[\"id\"])\n",
    "\n",
    "    row_series = pd.Series(my_list, name=\"row_id\", dtype=np.int64)\n",
    "    row_series\n",
    "\n",
    "    report_df = pd.concat([report_df, row_series], axis=1)\n",
    "\n",
    "report_df"
   ]
  },
  {
   "cell_type": "code",
   "execution_count": null,
   "id": "0106230d",
   "metadata": {},
   "outputs": [],
   "source": [
    "# create a dictionary to make attaching the files easier\n",
    "new_dict = {}\n",
    "\n",
    "if report_df.get(\"row_id\"):\n",
    "\n",
    "    for k, v in report_df.to_dict(\"index\").items():\n",
    "        row_id = v[\"row_id\"]\n",
    "\n",
    "        # add the filtered tasks to a list\n",
    "        new_dict[row_id] = filter_tasks(\n",
    "            df,\n",
    "            v[\"Client Name\"],\n",
    "            v[\"Project Title\"],\n",
    "            v[\"Resource\"],\n",
    "            v[\"Month Ending Date\"],\n",
    "        )\n",
    "\n",
    "new_dict"
   ]
  },
  {
   "cell_type": "code",
   "execution_count": null,
   "id": "c5524f09",
   "metadata": {},
   "outputs": [],
   "source": [
    "if not os.path.exists(\"_cache\"):\n",
    "    os.mkdir(\"_cache\")"
   ]
  },
  {
   "cell_type": "code",
   "execution_count": null,
   "id": "70e95b78",
   "metadata": {},
   "outputs": [],
   "source": [
    "# attach file to each record\n",
    "for k, v in new_dict.items():\n",
    "    filename = os.path.join(\"_cache\", f\"{k}.csv\")\n",
    "\n",
    "    # save file\n",
    "    v.to_csv(filename, index=False)\n",
    "\n",
    "    with open(filename, \"r\") as f:\n",
    "        ss_client.Attachments.attach_file_to_row(time_sheet_id, k, f)"
   ]
  },
  {
   "cell_type": "code",
   "execution_count": null,
   "id": "49e67524",
   "metadata": {},
   "outputs": [],
   "source": [
    "billable_posted = False\n",
    "for k, v in df.to_dict(\"index\").items():\n",
    "    if v[\"No Bill\"]:\n",
    "        result = conn.items.change_item_value(\n",
    "            TASKS_BOARD_ID,\n",
    "            v[\"task_id\"],\n",
    "            \"text01\",\n",
    "            f\"Posted - No Bill - {datetime.now()}\",\n",
    "        )\n",
    "    else:\n",
    "        result = conn.items.change_item_value(\n",
    "            TASKS_BOARD_ID, v[\"task_id\"], \"text01\", f\"Posted - {datetime.now()}\"\n",
    "        )\n",
    "        billable_posted = True"
   ]
  },
  {
   "cell_type": "markdown",
   "id": "e72f0aff",
   "metadata": {},
   "source": [
    "Delete any estimates"
   ]
  },
  {
   "cell_type": "code",
   "execution_count": null,
   "id": "d322f82b",
   "metadata": {},
   "outputs": [],
   "source": [
    "# delete the estimates only\n",
    "result = None\n",
    "# only do this if we had some monthly tasks to report\n",
    "if billable_posted and len(report_df) > 0:\n",
    "    result = ss_client.Sheets.get_sheet(time_sheet_id, filter_id=5850658663360388)\n",
    "    rows_to_delete = [x[\"id\"] for x in result.to_dict()[\"rows\"] if not x[\"filteredOut\"]]\n",
    "    if rows_to_delete:\n",
    "        result = ss_client.Sheets.delete_rows(posted_tasks_id, rows_to_delete)\n",
    "result"
   ]
  },
  {
   "cell_type": "code",
   "execution_count": null,
   "id": "fd210fe4",
   "metadata": {},
   "outputs": [],
   "source": []
  }
 ],
 "metadata": {
  "celltoolbar": "Tags",
  "kernelspec": {
   "display_name": "Python 3 (ipykernel)",
   "language": "python",
   "name": "python3"
  },
  "language_info": {
   "codemirror_mode": {
    "name": "ipython",
    "version": 3
   },
   "file_extension": ".py",
   "mimetype": "text/x-python",
   "name": "python",
   "nbconvert_exporter": "python",
   "pygments_lexer": "ipython3",
   "version": "3.9.12"
  }
 },
 "nbformat": 4,
 "nbformat_minor": 5
}
